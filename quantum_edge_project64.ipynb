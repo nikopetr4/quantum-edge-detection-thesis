{
 "cells": [
  {
   "cell_type": "code",
   "execution_count": 1,
   "id": "5c1b5581",
   "metadata": {},
   "outputs": [],
   "source": [
    "# Importing standard Qiskit libraries\n",
    "from qiskit import *\n",
    "from qiskit.compiler import transpile, assemble\n",
    "from qiskit.visualization import *\n",
    "\n",
    "import numpy as np\n",
    "import matplotlib.pyplot as plt\n",
    "from matplotlib import style\n",
    "style.use('bmh')\n",
    "back = Aer.get_backend('statevector_simulator')"
   ]
  },
  {
   "cell_type": "code",
   "execution_count": 2,
   "id": "85df62f3",
   "metadata": {},
   "outputs": [
    {
     "name": "stdout",
     "output_type": "stream",
     "text": [
      "Raw Image info: (64, 64, 4)\n",
      "Raw Image datatype: uint8\n",
      "Image shape (numpy array): (64, 64)\n"
     ]
    },
    {
     "data": {
      "image/png": "[encoded data removed]",
      "text/plain": [
       "<Figure size 640x480 with 1 Axes>"
      ]
     },
     "metadata": {},
     "output_type": "display_data"
    }
   ],
   "source": [
    "from PIL import Image\n",
    "style.use('default')\n",
    "\n",
    "image_size = 64      # Original image-width\n",
    "image_crop_size = 32   # Width of each part of image for processing\n",
    "\n",
    "\n",
    "# Load the image from filesystem\n",
    "image_raw = np.array(Image.open('./keyicon.png'))\n",
    "print('Raw Image info:', image_raw.shape)\n",
    "print('Raw Image datatype:', image_raw.dtype)\n",
    "\n",
    "\n",
    "# Convert the RBG component of the image to B&W image, as a numpy (uint8) array\n",
    "image = []\n",
    "for i in range(image_size):\n",
    "    image.append([])\n",
    "    for j in range(image_size):\n",
    "        image[i].append(image_raw[i][j][0] / 255)\n",
    "            \n",
    "image = np.array(image)\n",
    "print('Image shape (numpy array):', image.shape)\n",
    "\n",
    "imgmat = []\n",
    "for k in range(int(image_size / image_crop_size)):\n",
    "    imgmat.append([])\n",
    "    for l in range(int(image_size / image_crop_size) ):\n",
    "        lx = int(k * image_crop_size)\n",
    "        ux = int((k + 1) * image_crop_size)\n",
    "        ly = int(l * image_crop_size)\n",
    "        uy = int((l + 1) * image_crop_size)\n",
    "        imgmat[k].append(image[lx:ux, ly:uy])\n",
    "\n",
    "# Display the image\n",
    "plt.title('Chosen Image')\n",
    "plt.xticks(range(0, image.shape[0]+1, 32))\n",
    "plt.yticks(range(0, image.shape[1]+1, 32))\n",
    "plt.imshow(image, extent=[0, image.shape[0], image.shape[1], 0], cmap='gray')\n",
    "plt.show()"
   ]
  },
  {
   "cell_type": "code",
   "execution_count": 3,
   "id": "1b7f648c",
   "metadata": {},
   "outputs": [],
   "source": [
    "# Convert the raw pixel values to probability amplitudes\n",
    "def amplitude_encode(img_data):\n",
    "    \n",
    "    # Calculate the RMS value\n",
    "    rms = np.sqrt(np.sum(np.sum(img_data**2, axis=1)))\n",
    "    if rms == 0: # exception for all 0's (i.e. a blank image) to prevent divide by 0 errors\n",
    "        return np.array(img_data)\n",
    "    \n",
    "    # Create normalized image\n",
    "    image_norm = []\n",
    "    for arr in img_data:\n",
    "        for ele in arr:\n",
    "            image_norm.append(ele / rms)\n",
    "        \n",
    "    # Return the normalized image as a numpy array\n",
    "    return np.array(image_norm)"
   ]
  },
  {
   "cell_type": "code",
   "execution_count": 4,
   "id": "ffa69e6e",
   "metadata": {},
   "outputs": [],
   "source": [
    "# Initialize some global variable for number of qubits\n",
    "data_qb = 10\n",
    "anc_qb = 1\n",
    "total_qb = data_qb + anc_qb\n",
    "\n",
    "# Initialize the amplitude permutation unitary\n",
    "D2n_1 = np.roll(np.identity(2**total_qb), 1, axis=1)"
   ]
  },
  {
   "cell_type": "code",
   "execution_count": 6,
   "id": "83c2abe8",
   "metadata": {},
   "outputs": [],
   "source": [
    "# Create the circuit for horizontal scan\n",
    "\n",
    "horiz_scan = []\n",
    "vert_scan = []\n",
    "# Defining a lambda function for\n",
    "# thresholding to binary values\n",
    "threshold = lambda amp: (amp > 1e-3 or amp < -1e-3)\n",
    "\n",
    "for x in range(int(image_size / image_crop_size)):\n",
    "    horiz_scan.append([])\n",
    "    vert_scan.append([])\n",
    "    for y in range(int(image_size / image_crop_size)):\n",
    "        \n",
    "        # Get the amplitude encoded pixel values\n",
    "        # Horizontal: Original image\n",
    "        image_norm_h = amplitude_encode(imgmat[x][y])\n",
    "\n",
    "        # Vertical: Transpose of Original image\n",
    "        image_norm_v = amplitude_encode(imgmat[x][y].T)\n",
    "        \n",
    "        if(image_norm_h.sum() != 0 and image_norm_v.sum() != 0):\n",
    "            qc_h = QuantumCircuit(total_qb)\n",
    "            qc_h.initialize(image_norm_h, range(1, total_qb))\n",
    "            qc_h.h(0)\n",
    "            qc_h.unitary(D2n_1, range(total_qb))\n",
    "            qc_h.h(0)\n",
    "            # display(qc_h.draw('mpl', fold=-1))\n",
    "\n",
    "            # Create the circuit for vertical scan\n",
    "            qc_v = QuantumCircuit(total_qb)\n",
    "            qc_v.initialize(image_norm_v, range(1, total_qb))\n",
    "            qc_v.h(0)\n",
    "            qc_v.unitary(D2n_1, range(total_qb))\n",
    "            qc_v.h(0)\n",
    "            # display(qc_v.draw('mpl', fold=-1))\n",
    "\n",
    "            # Combine both circuits into a single list\n",
    "            circ_list = [qc_h, qc_v]\n",
    "\n",
    "            # Simulating the cirucits\n",
    "            job2 = execute(circ_list, backend=back)\n",
    "            results = job2.result()\n",
    "\n",
    "            sv_h = results.get_statevector(qc_h)\n",
    "            sv_v = results.get_statevector(qc_v)\n",
    "\n",
    "\n",
    "            # Classical postprocessing for plotting the output\n",
    "\n",
    "            # Selecting odd states from the raw statevector and\n",
    "            # reshaping column vector of size 64 to an 8x8 matrix\n",
    "            edge_scan_h = np.abs(np.array([1 if threshold(sv_h[2*i+1].real) else 0 for i in range(2**data_qb)])).reshape(image_crop_size, image_crop_size)\n",
    "            edge_scan_v = np.abs(np.array([1 if threshold(sv_v[2*i+1].real) else 0 for i in range(2**data_qb)])).reshape(image_crop_size, image_crop_size).T\n",
    "            \n",
    "        else:\n",
    "            edge_scan_h = imgmat[x][y]\n",
    "            edge_scan_v = imgmat[x][y].T\n",
    "        horiz_scan[x].append(edge_scan_h)\n",
    "        vert_scan[x].append(edge_scan_v)"
   ]
  },
  {
   "cell_type": "code",
   "execution_count": 7,
   "id": "2de071d5",
   "metadata": {},
   "outputs": [],
   "source": [
    "edge_scan_sim = []\n",
    "# horiz_scan | vert_scan\n",
    "# for hrow in range(int(image_size / image_crop_size) - 1):\n",
    "#     edge_scan_sim.append([])\n",
    "#     for vrow in range(int(image_size / image_crop_size) - 1):     \n",
    "for i, (hrow, vrow) in enumerate(zip(horiz_scan, vert_scan)):\n",
    "    edge_scan_sim.append([])\n",
    "    for h, v in zip(hrow, vrow):\n",
    "        edge_scan_sim[i].append(h.astype(int) | v.astype(int))\n",
    "            "
   ]
  },
  {
   "cell_type": "code",
   "execution_count": 8,
   "id": "db8c4ee4",
   "metadata": {},
   "outputs": [
    {
     "data": {
      "image/png": "[encoded data removed]",
      "text/plain": [
       "<Figure size 640x480 with 1 Axes>"
      ]
     },
     "metadata": {},
     "output_type": "display_data"
    }
   ],
   "source": [
    "# Function for plotting the image using matplotlib\n",
    "def plot_image(img, title: str):\n",
    "    plt.title(title)\n",
    "    plt.xticks(range(0, img.shape[0]+1, 32))\n",
    "    plt.yticks(range(0, img.shape[1]+1, 32))\n",
    "    plt.imshow(img, extent=[0, img.shape[0], img.shape[1], 0], cmap='gray')\n",
    "    plt.show()\n",
    "    \n",
    "# recombine our array of chunks into a single image\n",
    "edge_rows = [np.hstack(row) for row in edge_scan_sim]\n",
    "edges = np.vstack(edge_rows)\n",
    "\n",
    "plot_image(edges, 'QHED Processed Logo')"
   ]
  },
  {
   "cell_type": "code",
   "execution_count": 10,
   "id": "d1285aa8",
   "metadata": {},
   "outputs": [],
   "source": [
    "data = Image.fromarray(edges)\n",
    "plt.imsave('key_icon_edges.jpeg', data)"
   ]
  }
 ],
 "metadata": {
  "kernelspec": {
   "display_name": "Python 3 (ipykernel)",
   "language": "python",
   "name": "python3"
  },
  "language_info": {
   "codemirror_mode": {
    "name": "ipython",
    "version": 3
   },
   "file_extension": ".py",
   "mimetype": "text/x-python",
   "name": "python",
   "nbconvert_exporter": "python",
   "pygments_lexer": "ipython3",
   "version": "3.9.19"
  }
 },
 "nbformat": 4,
 "nbformat_minor": 5
}
